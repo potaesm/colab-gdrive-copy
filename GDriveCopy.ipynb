{
  "cells": [
    {
      "cell_type": "code",
      "execution_count": null,
      "metadata": {
        "cellView": "form",
        "id": "7vfY17MS4nsX"
      },
      "outputs": [],
      "source": [
        "!fusermount -u drive\n",
        "\n",
        "#@title Copy folders in Google Drive\n",
        "#@markdown ---\n",
        "from google.colab import drive\n",
        "import os\n",
        "\n",
        "mount_point = '/content/drive'\n",
        "\n",
        "print('Mounting Google Drive...')\n",
        "drive.flush_and_unmount()\n",
        "drive.mount(mount_point, force_remount=True)\n",
        "\n",
        "#@markdown ### Enter a source path:\n",
        "src_path = '/SourceFolder' #@param {type: 'string'}\n",
        "full_src_path = mount_point + '/MyDrive' + src_path\n",
        "assert os.path.exists(full_src_path), f\"Source '{full_src_path}' doesn't exist!\"\n",
        "\n",
        "#@markdown ### Enter a target path:\n",
        "target_path = '/TargetFolder' #@param {type: 'string'}\n",
        "full_target_path = mount_point + '/MyDrive' + target_path\n",
        "os.makedirs(full_target_path, exist_ok=True)\n",
        "assert os.path.exists(full_target_path), f\"Target '{full_target_path}' doesn't exist!\"\n",
        "\n",
        "print(f'Copying from \"{full_src_path}\" to \"{full_target_path}\"...')\n",
        "os.makedirs(full_target_path, exist_ok=True)\n",
        "!cp -rf \"$full_src_path\"/* \"$full_target_path\"\n"
      ]
    }
  ],
  "metadata": {
    "colab": {
      "collapsed_sections": [],
      "name": "GDriveCopy",
      "provenance": []
    },
    "kernelspec": {
      "display_name": "Python 3",
      "name": "python3"
    },
    "language_info": {
      "name": "python"
    }
  },
  "nbformat": 4,
  "nbformat_minor": 0
}
